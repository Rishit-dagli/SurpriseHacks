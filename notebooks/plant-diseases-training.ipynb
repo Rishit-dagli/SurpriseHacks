{
 "cells": [
  {
   "source": [
    "[![Kaggle](https://kaggle.com/static/images/open-in-kaggle.svg)](https://www.kaggle.com/rishitdagli/identify-plant-diseases-tensorflow)"
   ],
   "cell_type": "markdown",
   "metadata": {}
  },
  {
   "cell_type": "code",
   "execution_count": 1,
   "id": "fallen-american",
   "metadata": {
    "execution": {
     "iopub.execute_input": "2021-04-01T04:07:07.220545Z",
     "iopub.status.busy": "2021-04-01T04:07:07.219113Z",
     "iopub.status.idle": "2021-04-01T04:07:08.449418Z",
     "shell.execute_reply": "2021-04-01T04:07:08.449952Z"
    },
    "papermill": {
     "duration": 1.249086,
     "end_time": "2021-04-01T04:07:08.450201",
     "exception": false,
     "start_time": "2021-04-01T04:07:07.201115",
     "status": "completed"
    },
    "tags": []
   },
   "outputs": [
    {
     "name": "stdout",
     "output_type": "stream",
     "text": [
      "Thu Apr  1 04:07:08 2021       \r\n",
      "+-----------------------------------------------------------------------------+\r\n",
      "| NVIDIA-SMI 450.51.06    Driver Version: 450.51.06    CUDA Version: 11.0     |\r\n",
      "|-------------------------------+----------------------+----------------------+\r\n",
      "| GPU  Name        Persistence-M| Bus-Id        Disp.A | Volatile Uncorr. ECC |\r\n",
      "| Fan  Temp  Perf  Pwr:Usage/Cap|         Memory-Usage | GPU-Util  Compute M. |\r\n",
      "|                               |                      |               MIG M. |\r\n",
      "|===============================+======================+======================|\r\n",
      "|   0  Tesla P100-PCIE...  Off  | 00000000:00:04.0 Off |                    0 |\r\n",
      "| N/A   40C    P0    28W / 250W |      0MiB / 16280MiB |      0%      Default |\r\n",
      "|                               |                      |                  N/A |\r\n",
      "+-------------------------------+----------------------+----------------------+\r\n",
      "                                                                               \r\n",
      "+-----------------------------------------------------------------------------+\r\n",
      "| Processes:                                                                  |\r\n",
      "|  GPU   GI   CI        PID   Type   Process name                  GPU Memory |\r\n",
      "|        ID   ID                                                   Usage      |\r\n",
      "|=============================================================================|\r\n",
      "|  No running processes found                                                 |\r\n",
      "+-----------------------------------------------------------------------------+\r\n"
     ]
    }
   ],
   "source": [
    "!nvidia-smi"
   ]
  },
  {
   "attachments": {},
   "cell_type": "markdown",
   "id": "original-somewhere",
   "metadata": {
    "papermill": {
     "duration": 0.013273,
     "end_time": "2021-04-01T04:07:08.478164",
     "exception": false,
     "start_time": "2021-04-01T04:07:08.464891",
     "status": "completed"
    },
    "tags": []
   },
   "source": [
    "# Identify Plant Diseases\n",
    "\n",
    "We use the PlantVillage dataset [1] by Hughes et al. consists of about 87,000 healthy and unhealthy leaf images divided into 38 categories by species and disease. Here we provide a subset of our experiments on working with this data. We also end up transfer learning from MobileNet and use the weights from pre-training on ImageNet.\n",
    "\n",
    "* ![PlantVillage Dataset Samples](https://i.imgur.com/Zcxdrlc.png)\n",
    "Figure 1. PlantVillage Dataset Samples\n",
    "\n",
    "## Classes\n",
    "\n",
    "The following 38 classes are availaible in the dataset\n",
    "\n",
    "- `Apple___Apple_scab` \n",
    "- `Apple___Black_rot` \n",
    "- `Apple___Cedar_apple_rust` \n",
    "- `Apple___healthy` \n",
    "- `Blueberry___healthy` \n",
    "- `Cherry_(including_sour)___Powdery_mildew` \n",
    "- `Cherry_(including_sour)___healthy` \n",
    "- `Corn_(maize)___Cercospora_leaf_spot Gray_leaf_spot` \n",
    "- `Corn_(maize)___Common_rust_` \n",
    "- `Corn_(maize)___Northern_Leaf_Blight` \n",
    "- `Corn_(maize)___healthy', 'Grape___Black_rot` \n",
    "- `Grape___Leaf_blight_(Isariopsis_Leaf_Spot)` \n",
    "- `Grape___healthy` \n",
    "- `Orange___Haunglongbing_(Citrus_greening)` \n",
    "- `Peach___Bacterial_spot` \n",
    "- `Peach___healthy` \n",
    "- `Pepper,_bell___Bacterial_spot` \n",
    "- `Pepper,_bell___healthy` \n",
    "- `Potato___Early_blight` \n",
    "- `Potato___Late_blight` \n",
    "- `Potato___healthy` \n",
    "- `Raspberry___healthy` \n",
    "- `Soybean___healthy` \n",
    "- `Squash___Powdery_mildew` \n",
    "- `Strawberry___Leaf_scorch` \n",
    "- `Strawberry___healthy` \n",
    "- `Tomato___Bacterial_spot` \n",
    "- `Tomato___Late_blight` \n",
    "- `Tomato___Leaf_Mold` \n",
    "- `Tomato___Septoria_leaf_spot` \n",
    "- `Tomato___Spider_mites Two-spotted_spider_mite` \n",
    "- `Tomato___Target_Spot` \n",
    "- `Tomato___Tomato_Yellow_Leaf_Curl_Virus` \n",
    "- `Tomato___Tomato_mosaic_virus` \n",
    "- `Tomato___healthy`\n",
    "\n",
    "## References\n",
    "\n",
    "[1] Hughes, David P., and Marcel Salathe. “An Open Access Repository of Images on Plant Health to Enable the Development of Mobile Disease Diagnostics.” ArXiv:1511.08060 [Cs], Apr. 2016. arXiv.org, http://arxiv.org/abs/1511.08060.\n",
    "\n",
    "[2] Howard, Andrew G., et al. “MobileNets: Efficient Convolutional Neural Networks for Mobile Vision Applications.” ArXiv:1704.04861 [Cs], Apr. 2017. arXiv.org, http://arxiv.org/abs/1704.04861.\n"
   ]
  },
  {
   "cell_type": "markdown",
   "id": "mediterranean-chicken",
   "metadata": {
    "papermill": {
     "duration": 0.013228,
     "end_time": "2021-04-01T04:07:08.504993",
     "exception": false,
     "start_time": "2021-04-01T04:07:08.491765",
     "status": "completed"
    },
    "tags": []
   },
   "source": [
    "## Setup"
   ]
  },
  {
   "cell_type": "code",
   "execution_count": 2,
   "id": "incredible-sarah",
   "metadata": {
    "execution": {
     "iopub.execute_input": "2021-04-01T04:07:08.536476Z",
     "iopub.status.busy": "2021-04-01T04:07:08.535876Z",
     "iopub.status.idle": "2021-04-01T04:07:13.362376Z",
     "shell.execute_reply": "2021-04-01T04:07:13.361254Z"
    },
    "papermill": {
     "duration": 4.844146,
     "end_time": "2021-04-01T04:07:13.362549",
     "exception": false,
     "start_time": "2021-04-01T04:07:08.518403",
     "status": "completed"
    },
    "tags": []
   },
   "outputs": [],
   "source": [
    "import tensorflow as tf\n",
    "from tensorflow import keras\n",
    "\n",
    "import matplotlib.pyplot as plt\n",
    "import numpy as np\n",
    "\n",
    "import os"
   ]
  },
  {
   "cell_type": "code",
   "execution_count": 3,
   "id": "comfortable-smart",
   "metadata": {
    "execution": {
     "iopub.execute_input": "2021-04-01T04:07:13.395984Z",
     "iopub.status.busy": "2021-04-01T04:07:13.394228Z",
     "iopub.status.idle": "2021-04-01T04:07:13.396556Z",
     "shell.execute_reply": "2021-04-01T04:07:13.396943Z"
    },
    "papermill": {
     "duration": 0.020743,
     "end_time": "2021-04-01T04:07:13.397075",
     "exception": false,
     "start_time": "2021-04-01T04:07:13.376332",
     "status": "completed"
    },
    "tags": []
   },
   "outputs": [],
   "source": [
    "image_size = 224\n",
    "target_size = (image_size, image_size)\n",
    "input_shape = (image_size, image_size, 3)\n",
    "\n",
    "batch_size = 32\n",
    "epochs = 25"
   ]
  },
  {
   "cell_type": "markdown",
   "id": "musical-approval",
   "metadata": {
    "papermill": {
     "duration": 0.014668,
     "end_time": "2021-04-01T04:07:13.425337",
     "exception": false,
     "start_time": "2021-04-01T04:07:13.410669",
     "status": "completed"
    },
    "tags": []
   },
   "source": [
    "## Get data\n",
    "\n",
    "In order to make the most of our few training examples, we will \"augment\" them via a number of random transformations, so that our model would never see twice the exact same picture. This helps prevent overfitting and helps the model generalize better.\n",
    "\n",
    "In TensorFlow this can be done via the `tf.keras.preprocessing.image.ImageDataGenerator` class. This class allows you to:\n",
    "\n",
    "- configure random transformations and normalization operations to be done on your image data during training\n",
    "- instantiate generators of augmented image batches (and their labels) via `.flow(data, labels)` or `.flow_from_directory(directory)`. These generators can then be used with the `tf.keras` model methods that accept data generators as inputs, `fit`, `evaluate` and `predict`."
   ]
  },
  {
   "cell_type": "code",
   "execution_count": 4,
   "id": "inclusive-mobility",
   "metadata": {
    "execution": {
     "iopub.execute_input": "2021-04-01T04:07:13.458745Z",
     "iopub.status.busy": "2021-04-01T04:07:13.457024Z",
     "iopub.status.idle": "2021-04-01T04:07:13.459323Z",
     "shell.execute_reply": "2021-04-01T04:07:13.459723Z"
    },
    "papermill": {
     "duration": 0.020892,
     "end_time": "2021-04-01T04:07:13.459844",
     "exception": false,
     "start_time": "2021-04-01T04:07:13.438952",
     "status": "completed"
    },
    "tags": []
   },
   "outputs": [],
   "source": [
    "base_dir = \"../input/new-plant-diseases-dataset/new plant diseases dataset(augmented)/New Plant Diseases Dataset(Augmented)\"\n",
    "train_dir = os.path.join(base_dir,\"train\")\n",
    "test_dir = os.path.join(base_dir,\"valid\")"
   ]
  },
  {
   "cell_type": "markdown",
   "id": "ready-branch",
   "metadata": {
    "papermill": {
     "duration": 0.013558,
     "end_time": "2021-04-01T04:07:13.487266",
     "exception": false,
     "start_time": "2021-04-01T04:07:13.473708",
     "status": "completed"
    },
    "tags": []
   },
   "source": [
    "We make the following augmentations to the images:\n",
    "\n",
    "- `width_shift` and `height_shift` are ranges (as a fraction of total width or height) within which to randomly translate pictures vertically or horizontally\n",
    "- `rescale` is a value by which we will multiply the data before any other processing. Our original images consist in RGB coefficients in the 0-255, but such values would be too high for our models to process (given a typical learning rate), so we target values between 0 and 1 instead by scaling with a 1/255. factor.\n",
    "- `shear_range` is for randomly applying shearing transformations\n",
    "- `zoom_range` is for randomly zooming inside pictures\n",
    "- `fill_mode` is the strategy used for filling in newly created pixels, which can appear after a rotation or a width/height shift."
   ]
  },
  {
   "cell_type": "code",
   "execution_count": 5,
   "id": "developmental-cable",
   "metadata": {
    "execution": {
     "iopub.execute_input": "2021-04-01T04:07:13.521236Z",
     "iopub.status.busy": "2021-04-01T04:07:13.519528Z",
     "iopub.status.idle": "2021-04-01T04:07:13.521833Z",
     "shell.execute_reply": "2021-04-01T04:07:13.522229Z"
    },
    "papermill": {
     "duration": 0.021313,
     "end_time": "2021-04-01T04:07:13.522351",
     "exception": false,
     "start_time": "2021-04-01T04:07:13.501038",
     "status": "completed"
    },
    "tags": []
   },
   "outputs": [],
   "source": [
    "train_datagen = keras.preprocessing.image.ImageDataGenerator(rescale = 1/255.0,\n",
    "                                                             shear_range = 0.2,\n",
    "                                                             zoom_range = 0.2,\n",
    "                                                             width_shift_range = 0.2,\n",
    "                                                             height_shift_range = 0.2,\n",
    "                                                             fill_mode=\"nearest\")\n",
    "\n",
    "test_datagen = keras.preprocessing.image.ImageDataGenerator(rescale = 1/255.0)"
   ]
  },
  {
   "cell_type": "markdown",
   "id": "normal-infection",
   "metadata": {
    "papermill": {
     "duration": 0.013653,
     "end_time": "2021-04-01T04:07:13.549901",
     "exception": false,
     "start_time": "2021-04-01T04:07:13.536248",
     "status": "completed"
    },
    "tags": []
   },
   "source": [
    "Let's prepare our data. We will use `.flow_from_directory()` to generate batches of image data (and their labels) directly from our images in their respective folders."
   ]
  },
  {
   "cell_type": "code",
   "execution_count": 6,
   "id": "consecutive-lambda",
   "metadata": {
    "execution": {
     "iopub.execute_input": "2021-04-01T04:07:13.582905Z",
     "iopub.status.busy": "2021-04-01T04:07:13.582223Z",
     "iopub.status.idle": "2021-04-01T04:07:29.847704Z",
     "shell.execute_reply": "2021-04-01T04:07:29.847231Z"
    },
    "papermill": {
     "duration": 16.284083,
     "end_time": "2021-04-01T04:07:29.847846",
     "exception": false,
     "start_time": "2021-04-01T04:07:13.563763",
     "status": "completed"
    },
    "tags": []
   },
   "outputs": [
    {
     "name": "stdout",
     "output_type": "stream",
     "text": [
      "Found 70295 images belonging to 38 classes.\n",
      "Found 17572 images belonging to 38 classes.\n"
     ]
    }
   ],
   "source": [
    "train_data = train_datagen.flow_from_directory(train_dir,\n",
    "                                               target_size = (image_size, image_size),\n",
    "                                               batch_size = batch_size,\n",
    "                                               class_mode = \"categorical\")\n",
    "\n",
    "test_data = test_datagen.flow_from_directory(test_dir,\n",
    "                                             target_size = (image_size, image_size),\n",
    "                                             batch_size = batch_size,\n",
    "                                             class_mode = \"categorical\")"
   ]
  },
  {
   "cell_type": "markdown",
   "id": "other-beach",
   "metadata": {
    "papermill": {
     "duration": 0.015093,
     "end_time": "2021-04-01T04:07:29.877769",
     "exception": false,
     "start_time": "2021-04-01T04:07:29.862676",
     "status": "completed"
    },
    "tags": []
   },
   "source": [
    "## Create a classes index file\n",
    "\n",
    "We also want to know which class corresponds to which species and disease so we also create a `json` file which shows corresponding labels and class indices."
   ]
  },
  {
   "cell_type": "code",
   "execution_count": 7,
   "id": "animated-growing",
   "metadata": {
    "execution": {
     "iopub.execute_input": "2021-04-01T04:07:29.911693Z",
     "iopub.status.busy": "2021-04-01T04:07:29.910987Z",
     "iopub.status.idle": "2021-04-01T04:07:29.914191Z",
     "shell.execute_reply": "2021-04-01T04:07:29.914622Z"
    },
    "papermill": {
     "duration": 0.022425,
     "end_time": "2021-04-01T04:07:29.914749",
     "exception": false,
     "start_time": "2021-04-01T04:07:29.892324",
     "status": "completed"
    },
    "tags": []
   },
   "outputs": [
    {
     "name": "stdout",
     "output_type": "stream",
     "text": [
      "{'Apple___Apple_scab': 0, 'Apple___Black_rot': 1, 'Apple___Cedar_apple_rust': 2, 'Apple___healthy': 3, 'Blueberry___healthy': 4, 'Cherry_(including_sour)___Powdery_mildew': 5, 'Cherry_(including_sour)___healthy': 6, 'Corn_(maize)___Cercospora_leaf_spot Gray_leaf_spot': 7, 'Corn_(maize)___Common_rust_': 8, 'Corn_(maize)___Northern_Leaf_Blight': 9, 'Corn_(maize)___healthy': 10, 'Grape___Black_rot': 11, 'Grape___Esca_(Black_Measles)': 12, 'Grape___Leaf_blight_(Isariopsis_Leaf_Spot)': 13, 'Grape___healthy': 14, 'Orange___Haunglongbing_(Citrus_greening)': 15, 'Peach___Bacterial_spot': 16, 'Peach___healthy': 17, 'Pepper,_bell___Bacterial_spot': 18, 'Pepper,_bell___healthy': 19, 'Potato___Early_blight': 20, 'Potato___Late_blight': 21, 'Potato___healthy': 22, 'Raspberry___healthy': 23, 'Soybean___healthy': 24, 'Squash___Powdery_mildew': 25, 'Strawberry___Leaf_scorch': 26, 'Strawberry___healthy': 27, 'Tomato___Bacterial_spot': 28, 'Tomato___Early_blight': 29, 'Tomato___Late_blight': 30, 'Tomato___Leaf_Mold': 31, 'Tomato___Septoria_leaf_spot': 32, 'Tomato___Spider_mites Two-spotted_spider_mite': 33, 'Tomato___Target_Spot': 34, 'Tomato___Tomato_Yellow_Leaf_Curl_Virus': 35, 'Tomato___Tomato_mosaic_virus': 36, 'Tomato___healthy': 37}\n"
     ]
    }
   ],
   "source": [
    "categories = list(train_data.class_indices.keys())\n",
    "print(train_data.class_indices)"
   ]
  },
  {
   "cell_type": "code",
   "execution_count": 8,
   "id": "educational-enough",
   "metadata": {
    "execution": {
     "iopub.execute_input": "2021-04-01T04:07:29.949797Z",
     "iopub.status.busy": "2021-04-01T04:07:29.949011Z",
     "iopub.status.idle": "2021-04-01T04:07:29.955775Z",
     "shell.execute_reply": "2021-04-01T04:07:29.956221Z"
    },
    "papermill": {
     "duration": 0.026623,
     "end_time": "2021-04-01T04:07:29.956345",
     "exception": false,
     "start_time": "2021-04-01T04:07:29.929722",
     "status": "completed"
    },
    "tags": []
   },
   "outputs": [
    {
     "data": {
      "text/html": [
       "<a href='class_indices.json' target='_blank'>class_indices.json</a><br>"
      ],
      "text/plain": [
       "/kaggle/working/class_indices.json"
      ]
     },
     "execution_count": 8,
     "metadata": {},
     "output_type": "execute_result"
    }
   ],
   "source": [
    "import json\n",
    "with open('class_indices.json','w') as f:\n",
    "  json.dump(train_data.class_indices, f)\n",
    "\n",
    "from IPython.display import FileLink\n",
    "FileLink(r'class_indices.json')"
   ]
  },
  {
   "cell_type": "markdown",
   "id": "broad-designer",
   "metadata": {
    "papermill": {
     "duration": 0.015625,
     "end_time": "2021-04-01T04:07:29.987400",
     "exception": false,
     "start_time": "2021-04-01T04:07:29.971775",
     "status": "completed"
    },
    "tags": []
   },
   "source": [
    "## Training\n",
    "\n",
    "We first get the base MobileNet model without including the top layers since we want to use it for 38 classes and us the pre-trained weights for ImageNet."
   ]
  },
  {
   "cell_type": "code",
   "execution_count": 9,
   "id": "minimal-restriction",
   "metadata": {
    "execution": {
     "iopub.execute_input": "2021-04-01T04:07:30.025597Z",
     "iopub.status.busy": "2021-04-01T04:07:30.025088Z",
     "iopub.status.idle": "2021-04-01T04:07:34.002415Z",
     "shell.execute_reply": "2021-04-01T04:07:34.002880Z"
    },
    "papermill": {
     "duration": 4.000172,
     "end_time": "2021-04-01T04:07:34.003053",
     "exception": false,
     "start_time": "2021-04-01T04:07:30.002881",
     "status": "completed"
    },
    "tags": []
   },
   "outputs": [
    {
     "name": "stdout",
     "output_type": "stream",
     "text": [
      "Downloading data from https://storage.googleapis.com/tensorflow/keras-applications/mobilenet/mobilenet_1_0_224_tf_no_top.h5\n",
      "17227776/17225924 [==============================] - 0s 0us/step\n"
     ]
    }
   ],
   "source": [
    "base_model = tf.keras.applications.MobileNet(weights = \"imagenet\",\n",
    "                                             include_top = False,\n",
    "                                             input_shape = input_shape)\n",
    "\n",
    "base_model.trainable = False"
   ]
  },
  {
   "cell_type": "markdown",
   "id": "laughing-comment",
   "metadata": {
    "papermill": {
     "duration": 0.017473,
     "end_time": "2021-04-01T04:07:34.039284",
     "exception": false,
     "start_time": "2021-04-01T04:07:34.021811",
     "status": "completed"
    },
    "tags": []
   },
   "source": [
    "We now create a small upstream model on top of the MobileNet using the functional API"
   ]
  },
  {
   "cell_type": "code",
   "execution_count": 10,
   "id": "beginning-consent",
   "metadata": {
    "execution": {
     "iopub.execute_input": "2021-04-01T04:07:34.082398Z",
     "iopub.status.busy": "2021-04-01T04:07:34.081337Z",
     "iopub.status.idle": "2021-04-01T04:07:34.261363Z",
     "shell.execute_reply": "2021-04-01T04:07:34.260757Z"
    },
    "papermill": {
     "duration": 0.204784,
     "end_time": "2021-04-01T04:07:34.261506",
     "exception": false,
     "start_time": "2021-04-01T04:07:34.056722",
     "status": "completed"
    },
    "tags": []
   },
   "outputs": [],
   "source": [
    "inputs = keras.Input(shape = input_shape)\n",
    "\n",
    "x = base_model(inputs, training = False)\n",
    "x = tf.keras.layers.GlobalAveragePooling2D()(x)\n",
    "x = tf.keras.layers.Dropout(0.2)(x)\n",
    "x = tf.keras.layers.Dense(len(categories), \n",
    "                          activation=\"softmax\")(x)\n",
    "\n",
    "model = keras.Model(inputs = inputs, \n",
    "                    outputs = x, \n",
    "                    name=\"LeafDisease_MobileNet\")"
   ]
  },
  {
   "cell_type": "markdown",
   "id": "significant-occupation",
   "metadata": {
    "papermill": {
     "duration": 0.017852,
     "end_time": "2021-04-01T04:07:34.297136",
     "exception": false,
     "start_time": "2021-04-01T04:07:34.279284",
     "status": "completed"
    },
    "tags": []
   },
   "source": [
    "In our multiple experiments we found out Adam optimizer to work really well with it's default learning rate, $\\beta_1$, $\\beta_2$ and $\\epsilon$ values"
   ]
  },
  {
   "cell_type": "code",
   "execution_count": 11,
   "id": "suspended-thong",
   "metadata": {
    "execution": {
     "iopub.execute_input": "2021-04-01T04:07:34.342978Z",
     "iopub.status.busy": "2021-04-01T04:07:34.342249Z",
     "iopub.status.idle": "2021-04-01T04:07:34.357035Z",
     "shell.execute_reply": "2021-04-01T04:07:34.356619Z"
    },
    "papermill": {
     "duration": 0.042055,
     "end_time": "2021-04-01T04:07:34.357135",
     "exception": false,
     "start_time": "2021-04-01T04:07:34.315080",
     "status": "completed"
    },
    "tags": []
   },
   "outputs": [],
   "source": [
    "optimizer = tf.keras.optimizers.Adam()\n",
    "\n",
    "model.compile(optimizer = optimizer,\n",
    "              loss = tf.keras.losses.CategoricalCrossentropy(from_logits = True),\n",
    "              metrics=[keras.metrics.CategoricalAccuracy(), \n",
    "                       'accuracy'])"
   ]
  },
  {
   "cell_type": "code",
   "execution_count": 12,
   "id": "prostate-iceland",
   "metadata": {
    "execution": {
     "iopub.execute_input": "2021-04-01T04:07:34.396686Z",
     "iopub.status.busy": "2021-04-01T04:07:34.396128Z",
     "iopub.status.idle": "2021-04-01T04:39:03.182665Z",
     "shell.execute_reply": "2021-04-01T04:39:03.183196Z"
    },
    "papermill": {
     "duration": 1888.808672,
     "end_time": "2021-04-01T04:39:03.183361",
     "exception": false,
     "start_time": "2021-04-01T04:07:34.374689",
     "status": "completed"
    },
    "tags": []
   },
   "outputs": [
    {
     "name": "stdout",
     "output_type": "stream",
     "text": [
      "Epoch 1/25\n",
      "150/150 [==============================] - 101s 651ms/step - loss: 2.9674 - categorical_accuracy: 0.2649 - accuracy: 0.2649 - val_loss: 0.8529 - val_categorical_accuracy: 0.7894 - val_accuracy: 0.7894\n",
      "Epoch 2/25\n",
      "150/150 [==============================] - 91s 606ms/step - loss: 0.8498 - categorical_accuracy: 0.7780 - accuracy: 0.7780 - val_loss: 0.5021 - val_categorical_accuracy: 0.8694 - val_accuracy: 0.8694\n",
      "Epoch 3/25\n",
      "150/150 [==============================] - 87s 584ms/step - loss: 0.5840 - categorical_accuracy: 0.8334 - accuracy: 0.8334 - val_loss: 0.3919 - val_categorical_accuracy: 0.8866 - val_accuracy: 0.8866\n",
      "Epoch 4/25\n",
      "150/150 [==============================] - 84s 559ms/step - loss: 0.5198 - categorical_accuracy: 0.8445 - accuracy: 0.8445 - val_loss: 0.3315 - val_categorical_accuracy: 0.8994 - val_accuracy: 0.8994\n",
      "Epoch 5/25\n",
      "150/150 [==============================] - 81s 538ms/step - loss: 0.4232 - categorical_accuracy: 0.8756 - accuracy: 0.8756 - val_loss: 0.2891 - val_categorical_accuracy: 0.9169 - val_accuracy: 0.9169\n",
      "Epoch 6/25\n",
      "150/150 [==============================] - 79s 527ms/step - loss: 0.3848 - categorical_accuracy: 0.8788 - accuracy: 0.8788 - val_loss: 0.2765 - val_categorical_accuracy: 0.9122 - val_accuracy: 0.9122\n",
      "Epoch 7/25\n",
      "150/150 [==============================] - 77s 515ms/step - loss: 0.3270 - categorical_accuracy: 0.9087 - accuracy: 0.9087 - val_loss: 0.2514 - val_categorical_accuracy: 0.9197 - val_accuracy: 0.9197\n",
      "Epoch 8/25\n",
      "150/150 [==============================] - 75s 501ms/step - loss: 0.3040 - categorical_accuracy: 0.9112 - accuracy: 0.9112 - val_loss: 0.2400 - val_categorical_accuracy: 0.9269 - val_accuracy: 0.9269\n",
      "Epoch 9/25\n",
      "150/150 [==============================] - 74s 495ms/step - loss: 0.3087 - categorical_accuracy: 0.9036 - accuracy: 0.9036 - val_loss: 0.2109 - val_categorical_accuracy: 0.9366 - val_accuracy: 0.9366\n",
      "Epoch 10/25\n",
      "150/150 [==============================] - 73s 489ms/step - loss: 0.2888 - categorical_accuracy: 0.9081 - accuracy: 0.9081 - val_loss: 0.2199 - val_categorical_accuracy: 0.9294 - val_accuracy: 0.9294\n",
      "Epoch 11/25\n",
      "150/150 [==============================] - 73s 481ms/step - loss: 0.2746 - categorical_accuracy: 0.9121 - accuracy: 0.9121 - val_loss: 0.2390 - val_categorical_accuracy: 0.9200 - val_accuracy: 0.9200\n",
      "Epoch 12/25\n",
      "150/150 [==============================] - 71s 476ms/step - loss: 0.2941 - categorical_accuracy: 0.9032 - accuracy: 0.9032 - val_loss: 0.2110 - val_categorical_accuracy: 0.9325 - val_accuracy: 0.9325\n",
      "Epoch 13/25\n",
      "150/150 [==============================] - 69s 463ms/step - loss: 0.2602 - categorical_accuracy: 0.9240 - accuracy: 0.9240 - val_loss: 0.1744 - val_categorical_accuracy: 0.9384 - val_accuracy: 0.9384\n",
      "Epoch 14/25\n",
      "150/150 [==============================] - 69s 462ms/step - loss: 0.2456 - categorical_accuracy: 0.9230 - accuracy: 0.9230 - val_loss: 0.1804 - val_categorical_accuracy: 0.9422 - val_accuracy: 0.9422\n",
      "Epoch 15/25\n",
      "150/150 [==============================] - 69s 458ms/step - loss: 0.2428 - categorical_accuracy: 0.9230 - accuracy: 0.9230 - val_loss: 0.1730 - val_categorical_accuracy: 0.9463 - val_accuracy: 0.9463\n",
      "Epoch 16/25\n",
      "150/150 [==============================] - 69s 459ms/step - loss: 0.2420 - categorical_accuracy: 0.9230 - accuracy: 0.9230 - val_loss: 0.1899 - val_categorical_accuracy: 0.9341 - val_accuracy: 0.9341\n",
      "Epoch 17/25\n",
      "150/150 [==============================] - 68s 454ms/step - loss: 0.2128 - categorical_accuracy: 0.9315 - accuracy: 0.9315 - val_loss: 0.1662 - val_categorical_accuracy: 0.9472 - val_accuracy: 0.9472\n",
      "Epoch 18/25\n",
      "150/150 [==============================] - 69s 457ms/step - loss: 0.2345 - categorical_accuracy: 0.9260 - accuracy: 0.9260 - val_loss: 0.1531 - val_categorical_accuracy: 0.9513 - val_accuracy: 0.9513\n",
      "Epoch 19/25\n",
      "150/150 [==============================] - 68s 453ms/step - loss: 0.2557 - categorical_accuracy: 0.9124 - accuracy: 0.9124 - val_loss: 0.1545 - val_categorical_accuracy: 0.9469 - val_accuracy: 0.9469\n",
      "Epoch 20/25\n",
      "150/150 [==============================] - 70s 463ms/step - loss: 0.2374 - categorical_accuracy: 0.9172 - accuracy: 0.9172 - val_loss: 0.1676 - val_categorical_accuracy: 0.9453 - val_accuracy: 0.9453\n",
      "Epoch 21/25\n",
      "150/150 [==============================] - 72s 475ms/step - loss: 0.2092 - categorical_accuracy: 0.9294 - accuracy: 0.9294 - val_loss: 0.1750 - val_categorical_accuracy: 0.9391 - val_accuracy: 0.9391\n",
      "Epoch 22/25\n",
      "150/150 [==============================] - 72s 479ms/step - loss: 0.2200 - categorical_accuracy: 0.9297 - accuracy: 0.9297 - val_loss: 0.1464 - val_categorical_accuracy: 0.9509 - val_accuracy: 0.9509\n",
      "Epoch 23/25\n",
      "150/150 [==============================] - 74s 494ms/step - loss: 0.2109 - categorical_accuracy: 0.9337 - accuracy: 0.9337 - val_loss: 0.1640 - val_categorical_accuracy: 0.9434 - val_accuracy: 0.9434\n",
      "Epoch 24/25\n",
      "150/150 [==============================] - 75s 500ms/step - loss: 0.2176 - categorical_accuracy: 0.9354 - accuracy: 0.9354 - val_loss: 0.1619 - val_categorical_accuracy: 0.9431 - val_accuracy: 0.9431\n",
      "Epoch 25/25\n",
      "150/150 [==============================] - 75s 499ms/step - loss: 0.2223 - categorical_accuracy: 0.9256 - accuracy: 0.9256 - val_loss: 0.1486 - val_categorical_accuracy: 0.9513 - val_accuracy: 0.9513\n"
     ]
    }
   ],
   "source": [
    "history = model.fit(train_data,\n",
    "                    validation_data=test_data,\n",
    "                    epochs=epochs,\n",
    "                    steps_per_epoch=150,\n",
    "                    validation_steps=100)"
   ]
  },
  {
   "cell_type": "markdown",
   "id": "above-queue",
   "metadata": {
    "papermill": {
     "duration": 1.014709,
     "end_time": "2021-04-01T04:39:05.211508",
     "exception": false,
     "start_time": "2021-04-01T04:39:04.196799",
     "status": "completed"
    },
    "tags": []
   },
   "source": [
    "## Review the training process"
   ]
  },
  {
   "cell_type": "code",
   "execution_count": 13,
   "id": "later-spectrum",
   "metadata": {
    "execution": {
     "iopub.execute_input": "2021-04-01T04:39:07.585157Z",
     "iopub.status.busy": "2021-04-01T04:39:07.584228Z",
     "iopub.status.idle": "2021-04-01T04:39:07.733926Z",
     "shell.execute_reply": "2021-04-01T04:39:07.734336Z"
    },
    "papermill": {
     "duration": 1.17997,
     "end_time": "2021-04-01T04:39:07.734498",
     "exception": false,
     "start_time": "2021-04-01T04:39:06.554528",
     "status": "completed"
    },
    "tags": []
   },
   "outputs": [
    {
     "data": {
      "text/plain": [
       "<matplotlib.legend.Legend at 0x7f8dec21b250>"
      ]
     },
     "execution_count": 13,
     "metadata": {},
     "output_type": "execute_result"
    },
    {
     "data": {
      "image/png": "[encoded data removed]",
      "text/plain": [
       "<Figure size 720x432 with 1 Axes>"
      ]
     },
     "metadata": {
      "needs_background": "light"
     },
     "output_type": "display_data"
    }
   ],
   "source": [
    "loss = history.history['loss']\n",
    "val_loss = history.history['val_loss']\n",
    "\n",
    "epochs = range(len(loss))\n",
    "\n",
    "fig = plt.figure(figsize=(10,6))\n",
    "plt.plot(epochs,loss,c=\"red\",label=\"Training\")\n",
    "plt.plot(epochs,val_loss,c=\"blue\",label=\"Validation\")\n",
    "plt.xlabel(\"Epochs\")\n",
    "plt.ylabel(\"Loss\")\n",
    "plt.legend()"
   ]
  },
  {
   "cell_type": "code",
   "execution_count": 14,
   "id": "dutch-wells",
   "metadata": {
    "execution": {
     "iopub.execute_input": "2021-04-01T04:39:09.758242Z",
     "iopub.status.busy": "2021-04-01T04:39:09.745156Z",
     "iopub.status.idle": "2021-04-01T04:39:09.887262Z",
     "shell.execute_reply": "2021-04-01T04:39:09.887678Z"
    },
    "papermill": {
     "duration": 1.156126,
     "end_time": "2021-04-01T04:39:09.887822",
     "exception": false,
     "start_time": "2021-04-01T04:39:08.731696",
     "status": "completed"
    },
    "tags": []
   },
   "outputs": [
    {
     "data": {
      "text/plain": [
       "<matplotlib.legend.Legend at 0x7f8df41a8c10>"
      ]
     },
     "execution_count": 14,
     "metadata": {},
     "output_type": "execute_result"
    },
    {
     "data": {
      "image/png": "[encoded data removed]",
      "text/plain": [
       "<Figure size 720x432 with 1 Axes>"
      ]
     },
     "metadata": {
      "needs_background": "light"
     },
     "output_type": "display_data"
    }
   ],
   "source": [
    "acc = history.history['categorical_accuracy']\n",
    "val_acc = history.history['val_categorical_accuracy']\n",
    "\n",
    "epochs = range(len(acc))\n",
    "\n",
    "fig = plt.figure(figsize=(10,6))\n",
    "plt.plot(epochs,acc,c=\"red\",label=\"Training\")\n",
    "plt.plot(epochs,val_acc,c=\"blue\",label=\"Validation\")\n",
    "plt.xlabel(\"Epochs\")\n",
    "plt.ylabel(\"Accuracy\")\n",
    "plt.legend()"
   ]
  },
  {
   "cell_type": "markdown",
   "id": "italian-slide",
   "metadata": {
    "papermill": {
     "duration": 0.999562,
     "end_time": "2021-04-01T04:39:11.880888",
     "exception": false,
     "start_time": "2021-04-01T04:39:10.881326",
     "status": "completed"
    },
    "tags": []
   },
   "source": [
    "## Save the model\n",
    "\n",
    "We finally save the model in the standard TensorFlow 2 SavedModel format."
   ]
  },
  {
   "cell_type": "code",
   "execution_count": 15,
   "id": "perceived-license",
   "metadata": {
    "execution": {
     "iopub.execute_input": "2021-04-01T04:39:13.922335Z",
     "iopub.status.busy": "2021-04-01T04:39:13.921321Z",
     "iopub.status.idle": "2021-04-01T04:39:26.632303Z",
     "shell.execute_reply": "2021-04-01T04:39:26.629156Z"
    },
    "papermill": {
     "duration": 13.750988,
     "end_time": "2021-04-01T04:39:26.632446",
     "exception": false,
     "start_time": "2021-04-01T04:39:12.881458",
     "status": "completed"
    },
    "tags": []
   },
   "outputs": [],
   "source": [
    "model.save('plant_disease')"
   ]
  }
 ],
 "metadata": {
  "kernelspec": {
   "name": "python383jvsc74a57bd08647313069c6ea5cecc84d2edb133d9fafa3a514e123028a63a185c167c73d26",
   "display_name": "Python 3.8.3 64-bit (conda)"
  },
  "language_info": {
   "codemirror_mode": {
    "name": "ipython",
    "version": 3
   },
   "file_extension": ".py",
   "mimetype": "text/x-python",
   "name": "python",
   "nbconvert_exporter": "python",
   "pygments_lexer": "ipython3",
   "version": "3.8.3-final"
  },
  "papermill": {
   "default_parameters": {},
   "duration": 1948.674865,
   "end_time": "2021-04-01T04:39:30.668763",
   "environment_variables": {},
   "exception": null,
   "input_path": "__notebook__.ipynb",
   "output_path": "__notebook__.ipynb",
   "parameters": {},
   "start_time": "2021-04-01T04:07:01.993898",
   "version": "2.3.2"
  }
 },
 "nbformat": 4,
 "nbformat_minor": 5
}